{
 "cells": [
  {
   "cell_type": "markdown",
   "metadata": {
    "tags": [
     "remove_cell"
    ]
   },
   "source": [
    "<div><img style=\"float: left; padding-right: 3em;\" src=\"https://avatars.githubusercontent.com/u/19476722\" width=\"150\" /><div/>\n",
    "\n",
    "# Earth Data Science Coding Challenge!\n",
    "Before we get started, make sure to read or review the guidelines below. These will help make sure that your code is **readable** and **reproducible**. "
   ]
  },
  {
   "cell_type": "markdown",
   "metadata": {
    "tags": [
     "remove_cell"
    ]
   },
   "source": [
    "## Don't get **caught** by these Jupyter notebook gotchas\n",
    "\n",
    "<img src=\"https://miro.medium.com/v2/resize:fit:4800/format:webp/1*o0HleR7BSe8W-pTnmucqHA.jpeg\" width=300 style=\"padding: 1em; border-style: solid; border-color: grey;\" />\n",
    "\n",
    "  > *Image source: https://alaskausfws.medium.com/whats-big-and-brown-and-loves-salmon-e1803579ee36*\n",
    "\n",
    "These are the most common issues that will keep you from getting started and delay your code review:\n",
    "\n",
    "1. When you try to run some code on GitHub Codespaces, you may be prompted to select a **kernel**.\n",
    "   * The **kernel** refers to the version of Python you are using\n",
    "   * You should use the **base** kernel, which should be the default option. \n",
    "   * You can also use the `Select Kernel` menu in the upper right to select the **base** kernel\n",
    "2. Before you commit your work, make sure it runs **reproducibly** by clicking:\n",
    "   1. `Restart` (this button won't appear until you've run some code), then\n",
    "   2. `Run All`\n",
    "\n",
    "## Check your code to make sure it's clean and easy to read\n",
    "\n",
    "<img src=\"https://encrypted-tbn0.gstatic.com/images?q=tbn:ANd9GcSO1w9WrbwbuMLN14IezH-iq2HEGwO3JDvmo5Y_hQIy7k-Xo2gZH-mP2GUIG6RFWL04X1k&usqp=CAU\" height=200 />\n",
    "\n",
    "* Format all cells prior to submitting (right click on your code).\n",
    "* Use expressive names for variables so you or the reader knows what they are. \n",
    "* Use comments to explain your code -- e.g. \n",
    "  ```python\n",
    "  # This is a comment, it starts with a hash sign\n",
    "  ```\n",
    "\n",
    "## Label and describe your plots\n",
    "\n",
    "![Source: https://xkcd.com/833](https://imgs.xkcd.com/comics/convincing.png)\n",
    "\n",
    "Make sure each plot has:\n",
    "  * A title that explains where and when the data are from\n",
    "  * x- and y- axis labels with **units** where appropriate\n",
    "  * A legend where appropriate\n",
    "\n",
    "\n",
    "## Icons: how to use this notebook\n",
    "We use the following icons to let you know when you need to change something to complete the challenge:\n",
    "  * &#128187; means you need to write or edit some code.\n",
    "  \n",
    "  * &#128214;  indicates recommended reading\n",
    "  \n",
    "  * &#9998; marks written responses to questions\n",
    "  \n",
    "  * &#127798; is an optional extra challenge\n",
    "  "
   ]
  },
  {
   "cell_type": "markdown",
   "metadata": {},
   "source": [
    "---"
   ]
  },
  {
   "cell_type": "markdown",
   "metadata": {
    "deletable": false,
    "editable": false,
    "nbgrader": {
     "cell_type": "markdown",
     "checksum": "bc4c0d51e11e7727318692874a1baf97",
     "grade": false,
     "grade_id": "hw-instructions",
     "locked": true,
     "schema_version": 3,
     "solution": false,
     "task": false
    }
   },
   "source": [
    "# Vector data enhances map-making through the inclusion of point locations, political and natural boundaries, and areas of interest\n",
    "\n",
    "In this notebook, you will create two maps of different places in California using vector data (shapefiles). In the process, you will learn how to:\n",
    "  * Project/reproject vector data to a common Coordinate Reference System (CRS)\n",
    "  * Clip vector data to an area of interest\n",
    "  * Display vector data on a map\n",
    "  * Calculate lengths using vector data"
   ]
  },
  {
   "cell_type": "markdown",
   "metadata": {
    "deletable": false,
    "editable": false,
    "nbgrader": {
     "cell_type": "markdown",
     "checksum": "a9e452511a63ad2dc67f483f6838555c",
     "grade": false,
     "grade_id": "task-data",
     "locked": true,
     "points": 1,
     "schema_version": 3,
     "solution": false,
     "task": true
    }
   },
   "source": [
    "## Set up\n",
    "### Data Citation\n",
    "\n",
    "You will use the following data from NEON and [Natural Earth Data](https://www.naturalearthdata.com/) to make your map:\n",
    "  * SJER boundary (NEON)\n",
    "  * SJER plot centroids (NEON)\n",
    "  * Roads (Natural Earth)\n",
    "  * County boundaries (Natural Earth)\n",
    "\n",
    "[Natural Earth Data](https://www.naturalearthdata.com/) is a good open source for political and physical boundaries that are important for map-making. For this notebook, we have compiled the Natural Earth Data for you. You can also access it using the `geoviews` library, from the same developers as `hvplot` and `holoviews`. \n",
    "\n",
    "YOUR TASK: Look through the Natural Earth Data and NEON Spatial Data Maps websites above and cite the data as recommended by those organizations, or in APA style."
   ]
  },
  {
   "cell_type": "markdown",
   "metadata": {},
   "source": [
    "DATA CITATIONS HERE"
   ]
  },
  {
   "cell_type": "markdown",
   "metadata": {
    "deletable": false,
    "editable": false,
    "nbgrader": {
     "cell_type": "markdown",
     "checksum": "4fe958780828f2257c8a90415882f13b",
     "grade": false,
     "grade_id": "instr-set-up",
     "locked": true,
     "schema_version": 3,
     "solution": false,
     "task": false
    }
   },
   "source": [
    "### Set up your analysis\n",
    "\n",
    "The data that you will use for this week is all available from **earthpy** using the following download: \n",
    "\n",
    "`et.data.get_data('spatial-vector-lidar')`\n",
    "\n",
    "In the cell below the autograding imports:\n",
    "  1. Add all of the needed package imports - You will need the `geopandas` package, as well as a couple of others that you've used in the past.\n",
    "  2. Download the data and assign the download path a name\n",
    "  3. Set your working directory:\n",
    "     * Use a conditional to ensure that this code will run correctly whether or not your chosen working directory exists\n",
    "     * You can choose whatever working directory works best for the analysis, but it must be reproducible on any platform. "
   ]
  },
  {
   "cell_type": "code",
   "execution_count": null,
   "metadata": {
    "deletable": false,
    "nbgrader": {
     "cell_type": "code",
     "checksum": "4c85344ebbcb212c7d7575f9758b780d",
     "grade": false,
     "grade_id": "student-imports-answer",
     "locked": false,
     "schema_version": 3,
     "solution": true,
     "task": false
    },
    "tags": [
     "hide"
    ]
   },
   "outputs": [],
   "source": [
    "# Import packages, download data, and set working directory here\n",
    "\n",
    "# YOUR CODE HERE\n",
    "raise NotImplementedError()"
   ]
  },
  {
   "cell_type": "markdown",
   "metadata": {
    "deletable": false,
    "editable": false,
    "nbgrader": {
     "cell_type": "markdown",
     "checksum": "5eb4b36b7364395ef3b7709e5848d092",
     "grade": false,
     "grade_id": "challenge-1a-instructions",
     "locked": true,
     "schema_version": 3,
     "solution": false,
     "task": false
    }
   },
   "source": [
    "\n",
    "## Open And Clip Your Vector Data\n",
    "\n",
    "The NEON **SJER** field site is located in California. Your first task is to explore the area by creating a map of California roads that has symbology that represents different road types.\n",
    "\n",
    "### Open the roads layer and clip it using the SJER_crop extent\n",
    "\n",
    "In the cell below:\n",
    "\n",
    "1. Open the `california/madera-county-roads/tl_2013_06039_roads.shp` and `california/neon-sjer-site/vector_data/SJER_crop.shp` files located in your `spatial-vector-lidar` data download using GeoPandas. \n",
    "2. Reproject the roads data to be the same CRS as the area of interest using the `.to_crs()` method. They should both have the CRS of `EPSG:32611`.\n",
    "  > HINT: You can get the crs of the area of interest by accessing the `.crs` property of the `GeoDataFrame`\n",
    "4. Clip the data using the SJER boundary (`california/neon-sjer-site/vector_data/SJER_crop.shp`) layer. \n",
    "5. Open the SJER plot locations data (`california/neon-sjer-site/vector_data/SJER_plot_centroids.shp`). \n",
    "6. Set all `RTTYP` that are \"none\" to \"Unknown\" using the syntax: `roads-object-name[\"RTTYP\"].fillna(\"Unknown\", inplace=True)`\n",
    "\n",
    "Call the **clipped and reprojected roads shapefile geodataframe object** at the \n",
    "end of the cell to ensure the tests below run.\n"
   ]
  },
  {
   "cell_type": "code",
   "execution_count": null,
   "metadata": {
    "deletable": false,
    "nbgrader": {
     "cell_type": "code",
     "checksum": "eca8526759758d4d32bd2564d1fc7ed1",
     "grade": false,
     "grade_id": "initial-clip-solution",
     "locked": false,
     "schema_version": 3,
     "solution": true,
     "task": false
    }
   },
   "outputs": [],
   "source": [
    "# YOUR CODE HERE\n",
    "raise NotImplementedError()"
   ]
  },
  {
   "cell_type": "code",
   "execution_count": null,
   "metadata": {
    "deletable": false,
    "editable": false,
    "nbgrader": {
     "cell_type": "code",
     "checksum": "f3cbeabc1376c7d6f2db27224db908df",
     "grade": true,
     "grade_id": "initial-clip-tests",
     "locked": true,
     "points": 4,
     "schema_version": 3,
     "solution": false,
     "task": false
    }
   },
   "outputs": [],
   "source": [
    "# DO NOT MODIFY THIS CELL\n",
    "student_sjer_roads_clip = _\n",
    "initial_clip_points = 0\n",
    "\n",
    "if isinstance(student_sjer_roads_clip, gpd.geodataframe.GeoDataFrame):\n",
    "    print(\"\\u2705 Great! Your clipped object is a GeoDataFrame!\")\n",
    "    initial_clip_points += 1\n",
    "else:\n",
    "    print(\"\\u274C Oops, your clipped object is not a GeoDataFrame.\")\n",
    "\n",
    "if student_sjer_roads_clip.crs == 'epsg:32611':\n",
    "    print(\"\\u2705 Great! Your clipped object has the correct CRS!\")\n",
    "    initial_clip_points += 1\n",
    "else:\n",
    "    print(\"\\u274C Oops, your clipped object does not have the correct \"\n",
    "          \"CRS.\")\n",
    "    \n",
    "total_bounds_student = [\n",
    "    round(b, 2) for b in student_sjer_roads_clip.total_bounds]\n",
    "total_bounds_ans = [254570.57, 4107303.08, 258867.41, 4112361.92]\n",
    "if total_bounds_student == total_bounds_ans:\n",
    "    print(\"\\u2705 Great! Your clipped object has the correct extent.\")\n",
    "    initial_clip_points += 2\n",
    "else:\n",
    "    print(\"\\u274C Oops, your clipped object does not have the correct extent\")\n",
    "\n",
    "print(\"\\n \\u27A1 You received {} out of 4 points.\".format(\n",
    "    initial_clip_points))\n",
    "\n",
    "initial_clip_points"
   ]
  },
  {
   "cell_type": "markdown",
   "metadata": {
    "deletable": false,
    "editable": false,
    "nbgrader": {
     "cell_type": "markdown",
     "checksum": "885988539fa03daffe6cbb132a5a4ad7",
     "grade": false,
     "grade_id": "challenge-1b-instructions",
     "locked": true,
     "points": 5,
     "schema_version": 3,
     "solution": false,
     "task": true
    }
   },
   "source": [
    "## Create a Figure Of the SJER Study Area\n",
    "\n",
    "In the cell below, add code to create your challenge figure using the \n",
    "objects that you generated above.\n",
    "\n",
    "Create a map that shows the madera roads layer, SJER plot locations and the SJER boundary (`california/neon-sjer-site/vector_data/SJER_crop.shp`). All data should be cropped to your\n",
    "SJER boundary crop extent (your Area Of Interest or AOI)\n",
    "\n",
    "### Important Notes For Your Figure\n",
    "\n",
    "1. Create a map of the plot locations. Color each location according to the attribute **plot_type**.\n",
    "2. Plot the roads so different **road types** are represented using unique symbology using the `RTTYP` attribute. Setting the `line_color` by attribute will not work for non-point geometries. You will need to use a `for` loop, starting with the following example code:\n",
    "    ```python\n",
    "    for rttyp, gdf in roads_gdf.groupby('RTTYP'):\n",
    "        madera_plot *= df.hvplot(line_color=roads_symb[rttyp], label=rttyp)\n",
    "    ```\n",
    "\n",
    "    > HINT: You will need to have a python dictionary called `roads_symb` that specifies a color for each road type to make this code work.\n",
    "3. Add a **title** to your figure. You may also wish to set `xaxis` and `yaxis` to `'bare'`, the `data_aspect` to `'equal'`\n",
    "\n",
    "> **IMPORTANT:** be sure that all of the data are cropped to the **same spatial extent** and **crs**. You should have done this in the previous cell, but make sure to double-check if you are having trouble plotting."
   ]
  },
  {
   "cell_type": "code",
   "execution_count": null,
   "metadata": {
    "deletable": false,
    "nbgrader": {
     "cell_type": "code",
     "checksum": "bbb512f23920f582bd40cb74388725d8",
     "grade": false,
     "grade_id": "challenge-1-plot-answer",
     "locked": false,
     "schema_version": 3,
     "solution": true,
     "task": false
    },
    "tags": [
     "hide"
    ]
   },
   "outputs": [],
   "source": [
    "# YOUR CODE HERE\n",
    "raise NotImplementedError()"
   ]
  },
  {
   "cell_type": "markdown",
   "metadata": {
    "deletable": false,
    "editable": false,
    "nbgrader": {
     "cell_type": "markdown",
     "checksum": "8d31dc65b46ef7193e424c7ecba35443",
     "grade": false,
     "grade_id": "challenge-1-question-1",
     "locked": true,
     "points": 1,
     "schema_version": 3,
     "solution": false,
     "task": true
    }
   },
   "source": [
    "### Take a look at the metadata\n",
    "\n",
    "What does the RTTYP road type acronyms **M** and **S** stand for? \n",
    "Please your answer in the markdown cell BELOW. Use the `tl_2013_06039_roads.shp.xml` file in your data download to help you figure out the answer to this question\n"
   ]
  },
  {
   "cell_type": "markdown",
   "metadata": {},
   "source": []
  },
  {
   "cell_type": "markdown",
   "metadata": {
    "deletable": false,
    "editable": false,
    "nbgrader": {
     "cell_type": "markdown",
     "checksum": "07a7174ae548604c3ea8f222db6b8c87",
     "grade": false,
     "grade_id": "challenge-2-instructions",
     "locked": true,
     "schema_version": 3,
     "solution": false,
     "task": false
    }
   },
   "source": [
    "## Roads in Del Norte, Modoc & Siskiyou Counties\n",
    "\n",
    "Create a plot of roads that are located in: Del Norte, Modoc & Siskiyou Counties. To do this, you will need the following layers:\n",
    "\n",
    "* Counties in California: `california/CA_Counties/CA_Counties_TIGER2016.shp`\n",
    "* Roads: `spatial-vector-lidar/global/ne_10m_roads/ne_10m_roads.shp` \n",
    "\n",
    "To create this plot, you will need to:\n",
    "\n",
    "1. Reproject the roads and the county data to `epsg=5070`\n",
    "2. Select the three counties that you want to work with in the counties dataset. One fast way to do this is using syntax as follows: \n",
    "\n",
    "`roads_df[roads_df['NAME'].isin([\"Siskiyou\", \"Modoc\", \"Del Norte\"])]`\n",
    "\n",
    "3. Clip the roads data to the boundary of the counties that you wish to look at.\n",
    "4. Assign each road segment an attribute that identifies it as within each county.\n",
    "\n",
    "Color the roads in each county using a unique color.\n",
    "\n",
    "HINT: use the `legend=True` argument in `.plot()` to create a legend.\n",
    "Because you are only creating a legend for one layer, you can quickly use `.plot()`\n",
    "rather than `ax.legend()` which is what you used to create the figure above.\n",
    "\n",
    "\n",
    "### IMPORTANT: \n",
    "\n",
    "* Both layers need to the in the SAME coordinate reference system for you to work with them together. REPROJECT both data layers to albers `.to_crs(epsg=5070)`\n",
    "* Clip the roads to the boundary of the three_counties layer that you created which only contains the 3 selected counties: `\"Siskiyou\", \"Modoc\", \"Del Norte\"`\n",
    "* To assign each road to its respective county, you will perform a spatial join using `.sjoin()`."
   ]
  },
  {
   "cell_type": "markdown",
   "metadata": {
    "deletable": false,
    "editable": false,
    "nbgrader": {
     "cell_type": "markdown",
     "checksum": "cc91a19ee012c0fb7308ce92738d41c3",
     "grade": false,
     "grade_id": "challenge-2-instructions-1-2",
     "locked": true,
     "schema_version": 3,
     "solution": false,
     "task": false
    }
   },
   "source": [
    "In the cell below, add the code needed to \n",
    "\n",
    "* Open each layer\n",
    "* Reproject the data \n",
    "* Clip and subset the data \n",
    "\n",
    "At the end of the cell, be sure to call the clipped roads layer."
   ]
  },
  {
   "cell_type": "code",
   "execution_count": null,
   "metadata": {
    "deletable": false,
    "nbgrader": {
     "cell_type": "code",
     "checksum": "6a89b2ebd07249679e0dd59261ca7501",
     "grade": false,
     "grade_id": "challenge-2-answer",
     "locked": false,
     "schema_version": 3,
     "solution": true,
     "task": false
    }
   },
   "outputs": [],
   "source": [
    "# In this cell, add the code needed to open, reproject and clip / subset the data\n",
    "\n",
    "# YOUR CODE HERE\n",
    "raise NotImplementedError()"
   ]
  },
  {
   "cell_type": "code",
   "execution_count": null,
   "metadata": {
    "deletable": false,
    "editable": false,
    "nbgrader": {
     "cell_type": "code",
     "checksum": "871d217f8be4eb222b0cccc539e73311",
     "grade": true,
     "grade_id": "challenge-2-tests",
     "locked": true,
     "points": 4,
     "schema_version": 3,
     "solution": false,
     "task": false
    }
   },
   "outputs": [],
   "source": [
    "student_three_counties = _\n",
    "answer_total_bounds = [-2292272.17, 2271444.08, -1965771.03, 2452647.92]\n",
    "three_counties_points = 0\n",
    "\n",
    "if isinstance(student_three_counties, gpd.geodataframe.GeoDataFrame):\n",
    "    print(\"\\u2705 Great! Your clipped object is a GeoDataFrame!\")\n",
    "    three_counties_points += 1\n",
    "else:\n",
    "    print(\"\\u274C Oops, your clipped object is not a GeoDataFrame.\")\n",
    "\n",
    "if student_three_counties.crs.to_epsg() == 5070:\n",
    "    print(\"\\u2705 Great! Your clipped object has the correct CRS!\")\n",
    "    three_counties_points += 1\n",
    "else:\n",
    "    print(\"\\u274C Oops, your clipped object does not have the \"\n",
    "          \"correct CRS.\")\n",
    "    \n",
    "student_total_bounds = [\n",
    "    round(b, 2) for b in student_three_counties.total_bounds]\n",
    "if student_total_bounds == answer_total_bounds:\n",
    "    print(\"\\u2705 Great! Your clipped object has the correct extent.\")\n",
    "    three_counties_points += 2\n",
    "else:\n",
    "    print(\"\\u274C Oops, your clipped object does not have the correct \"\n",
    "          \"extent\")\n",
    "\n",
    "print(\"\\n \\u27A1 You received {} out of 4 points.\"\n",
    "      .format(three_counties_points))\n",
    "\n",
    "three_counties_points"
   ]
  },
  {
   "cell_type": "markdown",
   "metadata": {
    "deletable": false,
    "editable": false,
    "nbgrader": {
     "cell_type": "markdown",
     "checksum": "a00a7c99f12e14a9fe471db0dae83bc8",
     "grade": false,
     "grade_id": "challenge-2-instructions-2",
     "locked": true,
     "points": 5,
     "schema_version": 3,
     "solution": false,
     "task": true
    }
   },
   "source": [
    "## Challenge 2b: Figure\n",
    "\n",
    "In the cell below,  add code to create the figure described above.\n"
   ]
  },
  {
   "cell_type": "code",
   "execution_count": null,
   "metadata": {
    "caption": "Map showing the roads layer clipped to the three counties and colored according to which county the road is in.",
    "deletable": false,
    "nbgrader": {
     "cell_type": "code",
     "checksum": "636222f165b755cc0b8f83b117c63cfc",
     "grade": false,
     "grade_id": "challenge-2-plot",
     "locked": false,
     "schema_version": 3,
     "solution": true,
     "task": false
    },
    "tags": [
     "hide"
    ]
   },
   "outputs": [],
   "source": [
    "# Figure 2 - Place only the code required to plot your data here\n",
    "# Additional processing code can go above this code cell\n",
    "\n",
    "# YOUR CODE HERE\n",
    "raise NotImplementedError()"
   ]
  },
  {
   "cell_type": "markdown",
   "metadata": {
    "deletable": false,
    "editable": false,
    "nbgrader": {
     "cell_type": "markdown",
     "checksum": "c0207728db72a08bca157213f7a625bd",
     "grade": false,
     "grade_id": "challenge-3-instructions",
     "locked": true,
     "schema_version": 3,
     "solution": false,
     "task": false
    }
   },
   "source": [
    "## Challenge 3:  Calculate Total Length of Road Siskiyou, Modoc, Del Norte County in California\n",
    "\n",
    "Create a dataframe that shows the total length of road in these counties used in plot 2: Siskiyou, Modoc, and Del Norte. To calculate this, use the data you created for plot 2.\n",
    "\n",
    "To calculate length of each line in your geodataframe, you can use the syntax `gdf.length`. Create a new column **named length** using the syntax:\n",
    "\n",
    "`gdf[\"length\"] = gdf.length`\n",
    "\n",
    "You can summarize the data to calculate total length using pandas `.groupby()` on the county column name.\n",
    "\n",
    "Note: you can use: `pd.options.display.float_format = '{:.4f}'.format` if you'd like to turn off scientific notation for your outputs.\n",
    "\n",
    "It should look something like this:\n",
    "\n",
    "\n",
    "||length|\n",
    "|----|----|\n",
    "|NAME|| \n",
    "|Del Norte| road length here|\n",
    "|Modoc| road length here|\n",
    "|Siskiyou| road length here|\n",
    "\n",
    "\n",
    "At the end of the cell, call the dataframe object"
   ]
  },
  {
   "cell_type": "code",
   "execution_count": null,
   "metadata": {
    "deletable": false,
    "nbgrader": {
     "cell_type": "code",
     "checksum": "62a627696ff27d7562f50a7cb0c82856",
     "grade": false,
     "grade_id": "challenge-3-answer",
     "locked": false,
     "schema_version": 3,
     "solution": true,
     "task": false
    },
    "tags": [
     "hide"
    ]
   },
   "outputs": [],
   "source": [
    "# TABLE 1 - Place the code required to create the dataframe\n",
    "\n",
    "# YOUR CODE HERE\n",
    "raise NotImplementedError()"
   ]
  },
  {
   "cell_type": "code",
   "execution_count": null,
   "metadata": {
    "deletable": false,
    "editable": false,
    "nbgrader": {
     "cell_type": "code",
     "checksum": "1cd1148b5f8243738fafc3f57d438cb8",
     "grade": true,
     "grade_id": "challenge-3-tests-visible",
     "locked": true,
     "points": 5,
     "schema_version": 3,
     "solution": false,
     "task": false
    }
   },
   "outputs": [],
   "source": [
    "# DO NOT MODIFY THIS CELL\n",
    "# Test that the cali_roads_summary is of type dataframe and named correctly\n",
    "\n",
    "# Let's make sure you created an object with the correct name and of the correct type above!\n",
    "\n",
    "student_length_dataframe = _\n",
    "\n",
    "length_points = 0\n",
    "\n",
    "if len(student_length_dataframe) == 3:\n",
    "    print(\"\\u2705 Correct number of entries in the dataframe, good job!\")\n",
    "    length_points += 2\n",
    "else:\n",
    "    print(\"\\u274C Incorrect amount of entries in the dataframe.\")\n",
    "\n",
    "if student_length_dataframe.length.dtype == 'float':\n",
    "    print(\"\\u2705 Length column has the correct datatype!\")\n",
    "    length_points += 2\n",
    "else:\n",
    "    print(\"\\u274C Length column does not have the correct datetype.\")\n",
    "    \n",
    "if round(student_length_dataframe.length.sum(), 2) == 838764.66:\n",
    "    length_points += 6\n",
    "    print(\"\\u2705 Great! The summary roads data are correct!\")\n",
    "else:\n",
    "    print(\"\\u274C Oops, the roads summary data are not correct.\")\n",
    "\n",
    "print(\"\\n \\u27A1 You received {} out of 5 points.\".format(\n",
    "    length_points))\n",
    "length_points"
   ]
  }
 ],
 "metadata": {
  "anaconda-cloud": {},
  "kernelspec": {
   "display_name": "Python 3 (ipykernel)",
   "language": "python",
   "name": "python3"
  },
  "language_info": {
   "codemirror_mode": {
    "name": "ipython",
    "version": 3
   },
   "file_extension": ".py",
   "mimetype": "text/x-python",
   "name": "python",
   "nbconvert_exporter": "python",
   "pygments_lexer": "ipython3",
   "version": "3.10.12"
  },
  "toc": {
   "base_numbering": 1,
   "nav_menu": {},
   "number_sections": true,
   "sideBar": true,
   "skip_h1_title": false,
   "title_cell": "Table of Contents",
   "title_sidebar": "Contents",
   "toc_cell": false,
   "toc_position": {},
   "toc_section_display": true,
   "toc_window_display": true
  },
  "varInspector": {
   "cols": {
    "lenName": 16,
    "lenType": 16,
    "lenVar": 40
   },
   "kernels_config": {
    "python": {
     "delete_cmd_postfix": "",
     "delete_cmd_prefix": "del ",
     "library": "var_list.py",
     "varRefreshCmd": "print(var_dic_list())"
    },
    "r": {
     "delete_cmd_postfix": ") ",
     "delete_cmd_prefix": "rm(",
     "library": "var_list.r",
     "varRefreshCmd": "cat(var_dic_list()) "
    }
   },
   "types_to_exclude": [
    "module",
    "function",
    "builtin_function_or_method",
    "instance",
    "_Feature"
   ],
   "window_display": false
  }
 },
 "nbformat": 4,
 "nbformat_minor": 4
}
